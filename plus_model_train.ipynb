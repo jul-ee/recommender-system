{
 "cells": [
  {
   "attachments": {},
   "cell_type": "markdown",
   "id": "9652613f",
   "metadata": {},
   "source": [
    "# AutoInt+ 모델 구현 및 학습"
   ]
  },
  {
   "cell_type": "code",
   "execution_count": 69,
   "id": "68a34c22",
   "metadata": {},
   "outputs": [],
   "source": [
    "import time\n",
    "import random\n",
    "import pandas as pd\n",
    "import numpy as np\n",
    "import os\n",
    "\n",
    "from tqdm import tqdm\n",
    "from sklearn.preprocessing import LabelEncoder\n",
    "from sklearn.model_selection import train_test_split\n",
    "\n",
    "import tensorflow as tf\n",
    "from tensorflow.keras import backend as K\n",
    "from tensorflow.keras.models import Model\n",
    "from tensorflow.keras.layers import Layer, MaxPooling2D, Conv2D, Dropout, Lambda, Dense, Flatten, Activation, Input, Embedding, BatchNormalization\n",
    "from tensorflow.keras.initializers import glorot_normal, Zeros, TruncatedNormal\n",
    "from tensorflow.keras.regularizers import l2\n",
    "\n",
    "\n",
    "from tensorflow.keras.optimizers import Adam\n",
    "from tensorflow.keras.losses import BinaryCrossentropy\n",
    "from tensorflow.keras.metrics import BinaryAccuracy\n",
    "\n",
    "\n",
    "from tensorflow.keras.optimizers import Adam\n",
    "from collections import defaultdict\n",
    "import math"
   ]
  },
  {
   "attachments": {},
   "cell_type": "markdown",
   "id": "43d1967d",
   "metadata": {},
   "source": [
    "## 1. Layer 정의"
   ]
  },
  {
   "attachments": {},
   "cell_type": "markdown",
   "id": "f2bac16f",
   "metadata": {},
   "source": [
    "#### 1.1 임베딩 레이어"
   ]
  },
  {
   "cell_type": "code",
   "execution_count": 70,
   "id": "5841053f",
   "metadata": {},
   "outputs": [],
   "source": [
    "class FeaturesEmbedding(Layer):  \n",
    "    '''\n",
    "    임베딩 레이어\n",
    "    - 만약 피처(feature) 3개가 각각 10개, 20개, 30개의 고유값을 가진다면 feature_dims는 [10, 20, 30] 형태를 띄게 됨\n",
    "    - 전체 임베딩을 해야 할 개수는 10+20+30 = 60이므로 '60 x 임베딩_차원_크기'의 행렬이 생성\n",
    "    '''\n",
    "    def __init__(self, field_dims, embed_dim, **kwargs):\n",
    "        super(FeaturesEmbedding, self).__init__(**kwargs)\n",
    "        self.total_dim = sum(field_dims)\n",
    "        self.embed_dim = embed_dim\n",
    "        self.offsets = np.array((0, *np.cumsum(field_dims)[:-1]), dtype=np.longlong)\n",
    "        self.embedding = tf.keras.layers.Embedding(input_dim=self.total_dim, output_dim=self.embed_dim)\n",
    "\n",
    "    def build(self, input_shape):\n",
    "        # 임베딩을 빌드하고 초기화\n",
    "        self.embedding.build(input_shape)\n",
    "        self.embedding.set_weights([tf.keras.initializers.GlorotUniform()(shape=self.embedding.weights[0].shape)])\n",
    "\n",
    "    def call(self, x):\n",
    "        # 들어온 입력의 임베딩을 가짐\n",
    "        x = x + tf.constant(self.offsets)\n",
    "        return self.embedding(x)"
   ]
  },
  {
   "attachments": {},
   "cell_type": "markdown",
   "id": "f9d1ce51",
   "metadata": {},
   "source": [
    "#### 1.2 DNN 레이어"
   ]
  },
  {
   "cell_type": "code",
   "execution_count": 71,
   "id": "d43c673b",
   "metadata": {},
   "outputs": [],
   "source": [
    "class MultiLayerPerceptron(Layer):  \n",
    "    '''\n",
    "    DNN 레이어\n",
    "    - Tensorflow Keras에서는 Dense 레이어를 쌓아올린 구조\n",
    "    - 필요에 따라 배치 정규화도 사용할 수 있음\n",
    "    '''\n",
    "    def __init__(self, input_dim, hidden_units, activation='relu', l2_reg=0, dropout_rate=0, use_bn=False, init_std=0.0001, output_layer=True):\n",
    "        super(MultiLayerPerceptron, self).__init__()\n",
    "        self.dropout_rate = dropout_rate\n",
    "        self.use_bn = use_bn\n",
    "        hidden_units = [input_dim] + list(hidden_units)\n",
    "        if output_layer:\n",
    "            hidden_units += [1]\n",
    "        # Dense layer를 쌓아올립니다.\n",
    "        self.linears = [Dense(units, activation=None, kernel_initializer=tf.random_normal_initializer(stddev=init_std),\n",
    "                              kernel_regularizer=tf.keras.regularizers.l2(l2_reg)) for units in hidden_units[1:]]\n",
    "        # 활성화 함수를 세팅합니다.\n",
    "        self.activation = tf.keras.layers.Activation(activation)\n",
    "        # 필요하다면 배치정규화도 진행합니다.\n",
    "        if self.use_bn:\n",
    "            self.bn = [BatchNormalization() for _ in hidden_units[1:]]\n",
    "        self.dropout = Dropout(dropout_rate)\n",
    "\n",
    "    def call(self, inputs, training=False):\n",
    "        x = inputs\n",
    "        for i in range(len(self.linears)):\n",
    "            # input data가 들어오면 layer를 돌면서 벡터 값을 가져오게 됩니다.\n",
    "            x = self.linears[i](x)\n",
    "            if self.use_bn:\n",
    "                x = self.bn[i](x, training=training)\n",
    "            # 각 layer마다 나온 벡터 값에 활성화 함수와 dropout을 적용시켜 비선형성 구조와 과적합을 방지합니다.\n",
    "            x = self.activation(x)\n",
    "            x = self.dropout(x, training=training)\n",
    "        return x"
   ]
  },
  {
   "attachments": {},
   "cell_type": "markdown",
   "id": "6fca3b3b",
   "metadata": {},
   "source": [
    "#### 1.3 멀티 헤드 셀프 어텐션 레이어"
   ]
  },
  {
   "cell_type": "code",
   "execution_count": 72,
   "id": "b87f2645",
   "metadata": {},
   "outputs": [],
   "source": [
    "class MultiHeadSelfAttention(Layer):  \n",
    "    '''\n",
    "    멀티 헤드 셀프 어텐션 레이어\n",
    "    - 위에 작성한 수식과 같이 동작\n",
    "    - 필요에 따라 잔차 연결(residual connection)도 진행\n",
    "    '''\n",
    "    def __init__(self, att_embedding_size=8, head_num=2, use_res=True, scaling=False, seed=1024, **kwargs):\n",
    "        if head_num <= 0:\n",
    "            raise ValueError('head_num must be a int > 0')\n",
    "        self.att_embedding_size = att_embedding_size\n",
    "        self.head_num = head_num\n",
    "        self.use_res = use_res\n",
    "        self.seed = seed\n",
    "        self.scaling = scaling\n",
    "        super(MultiHeadSelfAttention, self).__init__(**kwargs)\n",
    "\n",
    "    def build(self, input_shape):\n",
    "        if len(input_shape) != 3:\n",
    "            raise ValueError(\n",
    "                \"Unexpected inputs dimensions %d, expect to be 3 dimensions\" % (len(input_shape)))\n",
    "        embedding_size = int(input_shape[-1])\n",
    "        # 쿼리에 해당하는 매트릭스\n",
    "        self.W_Query = self.add_weight(name='query', shape=[embedding_size, self.att_embedding_size * self.head_num],\n",
    "                                       dtype=tf.float32,\n",
    "                                       initializer=TruncatedNormal(seed=self.seed))\n",
    "        # 키에 해당되는 매트릭스\n",
    "        self.W_key = self.add_weight(name='key', shape=[embedding_size, self.att_embedding_size * self.head_num],\n",
    "                                     dtype=tf.float32,\n",
    "                                     initializer=TruncatedNormal(seed=self.seed + 1))\n",
    "        # 값(value)에 해당되는 매트릭스\n",
    "        self.W_Value = self.add_weight(name='value', shape=[embedding_size, self.att_embedding_size * self.head_num],\n",
    "                                       dtype=tf.float32,\n",
    "                                       initializer=TruncatedNormal(seed=self.seed + 2))\n",
    "        # 필요하다면 잔차 연결도 할 수 있음\n",
    "        if self.use_res:\n",
    "            self.W_Res = self.add_weight(name='res', shape=[embedding_size, self.att_embedding_size * self.head_num],\n",
    "                                         dtype=tf.float32,\n",
    "                                         initializer=TruncatedNormal(seed=self.seed))\n",
    "\n",
    "        super(MultiHeadSelfAttention, self).build(input_shape)\n",
    "\n",
    "    def call(self, inputs, **kwargs):\n",
    "        if K.ndim(inputs) != 3:\n",
    "            raise ValueError(\"Unexpected inputs dimensions %d, expect to be 3 dimensions\" % (K.ndim(inputs)))\n",
    "        \n",
    "        # 입력이 들어오면 쿼리, 키, 값(value)에 매칭되어 각각의 값을 가져옴\n",
    "        querys = tf.tensordot(inputs, self.W_Query, axes=(-1, 0))  \n",
    "        keys = tf.tensordot(inputs, self.W_key, axes=(-1, 0))\n",
    "        values = tf.tensordot(inputs, self.W_Value, axes=(-1, 0))\n",
    "\n",
    "        # 헤드 개수에 따라 데이터를 분리\n",
    "        querys = tf.stack(tf.split(querys, self.head_num, axis=2))\n",
    "        keys = tf.stack(tf.split(keys, self.head_num, axis=2))\n",
    "        values = tf.stack(tf.split(values, self.head_num, axis=2))\n",
    "        \n",
    "        # 쿼리와 키를 먼저 곱해줌 -> 위 이미지의 식 (5)와 같음\n",
    "        inner_product = tf.matmul(querys, keys, transpose_b=True)\n",
    "        if self.scaling:\n",
    "            inner_product /= self.att_embedding_size ** 0.5\n",
    "        self.normalized_att_scores =  tf.nn.softmax(inner_product)\n",
    "        \n",
    "        # 쿼리와 키에서 나온 어텐션 값을 값(value)에 곱해줌 -> 식 (6)과 같음\n",
    "        result = tf.matmul(self.normalized_att_scores, values)\n",
    "        # 식 (7)과 같이 쪼개어진 멀테 헤드를 모아줌\n",
    "        result = tf.concat(tf.split(result, self.head_num, ), axis=-1)\n",
    "        result = tf.squeeze(result, axis=0) \n",
    "\n",
    "        if self.use_res:\n",
    "            result += tf.tensordot(inputs, self.W_Res, axes=(-1, 0))\n",
    "        result = tf.nn.relu(result)\n",
    "        \n",
    "        # 그 결과 값 리턴\n",
    "        return result\n",
    "\n",
    "    def compute_output_shape(self, input_shape):\n",
    "\n",
    "        return (None, input_shape[1], self.att_embedding_size * self.head_num)\n",
    "\n",
    "    def get_config(self, ):\n",
    "        config = {'att_embedding_size': self.att_embedding_size, 'head_num': self.head_num, 'use_res': self.use_res,'seed': self.seed}\n",
    "        base_config = super(MultiHeadSelfAttention, self).get_config()\n",
    "        base_config.update(config)\n",
    "        return base_config"
   ]
  },
  {
   "attachments": {},
   "cell_type": "markdown",
   "id": "3308662e",
   "metadata": {},
   "source": [
    "<br>\n",
    "\n",
    "## 2. AutoInt+ 모델"
   ]
  },
  {
   "cell_type": "code",
   "execution_count": 73,
   "id": "7cf154a1",
   "metadata": {},
   "outputs": [],
   "source": [
    "class AutoIntMLP(Layer): \n",
    "    '''\n",
    "     AutoInt 본체\n",
    "     앞서서 정의한 layer를 가져와서 계산을 수행\n",
    "    '''\n",
    "    def __init__(self, field_dims, embedding_size, att_layer_num=3, att_head_num=2, att_res=True, dnn_hidden_units=(32, 32), dnn_activation='relu',\n",
    "                 l2_reg_dnn=0, l2_reg_embedding=1e-5, dnn_use_bn=False, dnn_dropout=0.4, init_std=0.0001):\n",
    "        super(AutoIntMLP, self).__init__()\n",
    "        self.embedding = FeaturesEmbedding(field_dims, embedding_size)\n",
    "        self.num_fields = len(field_dims)\n",
    "        self.embedding_size = embedding_size\n",
    "\n",
    "        self.final_layer = Dense(1, use_bias=False, kernel_initializer=tf.random_normal_initializer(stddev=init_std))\n",
    "        \n",
    "        self.dnn = tf.keras.Sequential()\n",
    "        for units in dnn_hidden_units:\n",
    "            self.dnn.add(Dense(units, activation=dnn_activation,\n",
    "                               kernel_regularizer=tf.keras.regularizers.l2(l2_reg_dnn),\n",
    "                               kernel_initializer=tf.random_normal_initializer(stddev=init_std)))\n",
    "            if dnn_use_bn:\n",
    "                self.dnn.add(BatchNormalization())\n",
    "            self.dnn.add(Activation(dnn_activation))\n",
    "            if dnn_dropout > 0:\n",
    "                self.dnn.add(Dropout(dnn_dropout))\n",
    "        self.dnn.add(Dense(1, kernel_initializer=tf.random_normal_initializer(stddev=init_std)))\n",
    "\n",
    "        self.int_layers = [MultiHeadSelfAttention(att_embedding_size=embedding_size, head_num=att_head_num, use_res=att_res) for _ in range(att_layer_num)]\n",
    "\n",
    "    def call(self, inputs):\n",
    "        embed_x = self.embedding(inputs)\n",
    "        dnn_embed = tf.reshape(embed_x, shape=(-1, self.embedding_size * self.num_fields))\n",
    "\n",
    "        att_input = embed_x\n",
    "        for layer in self.int_layers:\n",
    "            att_input = layer(att_input)\n",
    "\n",
    "        att_output = Flatten()(att_input)\n",
    "        att_output = self.final_layer(att_output)\n",
    "        \n",
    "        dnn_output = self.dnn(dnn_embed)\n",
    "        y_pred = tf.keras.activations.sigmoid(att_output + dnn_output)\n",
    "        \n",
    "        return y_pred"
   ]
  },
  {
   "attachments": {},
   "cell_type": "markdown",
   "id": "e8fd9cc5",
   "metadata": {},
   "source": [
    "<br>\n",
    "\n",
    "## 3. 평가 지표"
   ]
  },
  {
   "cell_type": "code",
   "execution_count": 74,
   "id": "07f0752d",
   "metadata": {},
   "outputs": [],
   "source": [
    "def get_DCG(ranklist, y_true):\n",
    "    dcg = 0.0\n",
    "    for i in range(len(ranklist)):\n",
    "        item = ranklist[i]\n",
    "        if item in y_true:\n",
    "            dcg += 1.0 / math.log(i + 2)\n",
    "    return  dcg\n",
    "\n",
    "def get_IDCG(ranklist, y_true):\n",
    "    idcg = 0.0\n",
    "    i = 0\n",
    "    for item in y_true:\n",
    "        if item in ranklist:\n",
    "            idcg += 1.0 / math.log(i + 2)\n",
    "            i += 1\n",
    "    return idcg\n",
    "\n",
    "def get_NDCG(ranklist, y_true):\n",
    "    '''NDCG 평가 지표'''\n",
    "    ranklist = np.array(ranklist).astype(int)\n",
    "    y_true = np.array(y_true).astype(int)\n",
    "    dcg = get_DCG(ranklist, y_true)\n",
    "    idcg = get_IDCG(y_true, y_true)\n",
    "    if idcg == 0:\n",
    "        return 0\n",
    "    return round( (dcg / idcg), 5)\n",
    "\n",
    "def get_hit_rate(ranklist, y_true):\n",
    "    '''hitrate 평가 지표'''\n",
    "    c = 0\n",
    "    for y in y_true:\n",
    "        if y in ranklist:\n",
    "            c += 1\n",
    "    return round( c / len(y_true), 5 )"
   ]
  },
  {
   "attachments": {},
   "cell_type": "markdown",
   "id": "d9d09b0a",
   "metadata": {},
   "source": [
    "<br>\n",
    "\n",
    "## 4. 모델 테스트"
   ]
  },
  {
   "cell_type": "code",
   "execution_count": 75,
   "id": "be89da14",
   "metadata": {},
   "outputs": [],
   "source": [
    "def test_model(model, test_df):\n",
    "    '''모델 테스트'''\n",
    "    user_pred_info = defaultdict(list)\n",
    "    total_rows = len(test_df)\n",
    "    for i in range(0, total_rows, batch_size):\n",
    "        features = test_df.iloc[i:i + batch_size, :-1].values\n",
    "        y_pred = model.predict(features, verbose=False)\n",
    "        for feature, p in zip(features, y_pred):\n",
    "            u_i = feature[:2]\n",
    "            user_pred_info[int(u_i[0])].append((int(u_i[1]), float(p)))\n",
    "    return user_pred_info"
   ]
  },
  {
   "attachments": {},
   "cell_type": "markdown",
   "id": "68e81ad2",
   "metadata": {},
   "source": [
    "<br>\n",
    "\n",
    "## 5. 데이터 불러오기 및 세팅"
   ]
  },
  {
   "cell_type": "code",
   "execution_count": 76,
   "id": "86119a50",
   "metadata": {},
   "outputs": [],
   "source": [
    "project_path = os.path.abspath(os.getcwd())\n",
    "data_dir_nm = 'data'\n",
    "movielens_dir_nm = 'ml-1m'\n",
    "model_dir_nm = 'model'\n",
    "data_path = f\"{project_path}/{data_dir_nm}\"\n",
    "movielen_path = f\"{project_path}/{movielens_dir_nm}\"\n",
    "model_path = f\"{project_path}/{model_dir_nm}\""
   ]
  },
  {
   "cell_type": "code",
   "execution_count": 77,
   "id": "862ceeab",
   "metadata": {},
   "outputs": [
    {
     "name": "stdout",
     "output_type": "stream",
     "text": [
      "(1000209, 15)\n"
     ]
    },
    {
     "data": {
      "text/html": [
       "<div>\n",
       "<style scoped>\n",
       "    .dataframe tbody tr th:only-of-type {\n",
       "        vertical-align: middle;\n",
       "    }\n",
       "\n",
       "    .dataframe tbody tr th {\n",
       "        vertical-align: top;\n",
       "    }\n",
       "\n",
       "    .dataframe thead th {\n",
       "        text-align: right;\n",
       "    }\n",
       "</style>\n",
       "<table border=\"1\" class=\"dataframe\">\n",
       "  <thead>\n",
       "    <tr style=\"text-align: right;\">\n",
       "      <th></th>\n",
       "      <th>user_id</th>\n",
       "      <th>movie_id</th>\n",
       "      <th>movie_decade</th>\n",
       "      <th>movie_year</th>\n",
       "      <th>rating_year</th>\n",
       "      <th>rating_month</th>\n",
       "      <th>rating_decade</th>\n",
       "      <th>genre1</th>\n",
       "      <th>genre2</th>\n",
       "      <th>genre3</th>\n",
       "      <th>gender</th>\n",
       "      <th>age</th>\n",
       "      <th>occupation</th>\n",
       "      <th>zip</th>\n",
       "      <th>label</th>\n",
       "    </tr>\n",
       "  </thead>\n",
       "  <tbody>\n",
       "    <tr>\n",
       "      <th>0</th>\n",
       "      <td>1</td>\n",
       "      <td>1193</td>\n",
       "      <td>1970s</td>\n",
       "      <td>1975</td>\n",
       "      <td>2000</td>\n",
       "      <td>12</td>\n",
       "      <td>2000s</td>\n",
       "      <td>Drama</td>\n",
       "      <td>no</td>\n",
       "      <td>no</td>\n",
       "      <td>F</td>\n",
       "      <td>1</td>\n",
       "      <td>10</td>\n",
       "      <td>48067</td>\n",
       "      <td>1</td>\n",
       "    </tr>\n",
       "    <tr>\n",
       "      <th>1</th>\n",
       "      <td>1</td>\n",
       "      <td>661</td>\n",
       "      <td>1990s</td>\n",
       "      <td>1996</td>\n",
       "      <td>2000</td>\n",
       "      <td>12</td>\n",
       "      <td>2000s</td>\n",
       "      <td>Animation</td>\n",
       "      <td>Children's</td>\n",
       "      <td>Musical</td>\n",
       "      <td>F</td>\n",
       "      <td>1</td>\n",
       "      <td>10</td>\n",
       "      <td>48067</td>\n",
       "      <td>0</td>\n",
       "    </tr>\n",
       "    <tr>\n",
       "      <th>2</th>\n",
       "      <td>1</td>\n",
       "      <td>914</td>\n",
       "      <td>1960s</td>\n",
       "      <td>1964</td>\n",
       "      <td>2000</td>\n",
       "      <td>12</td>\n",
       "      <td>2000s</td>\n",
       "      <td>Musical</td>\n",
       "      <td>Romance</td>\n",
       "      <td>no</td>\n",
       "      <td>F</td>\n",
       "      <td>1</td>\n",
       "      <td>10</td>\n",
       "      <td>48067</td>\n",
       "      <td>0</td>\n",
       "    </tr>\n",
       "    <tr>\n",
       "      <th>3</th>\n",
       "      <td>1</td>\n",
       "      <td>3408</td>\n",
       "      <td>2000s</td>\n",
       "      <td>2000</td>\n",
       "      <td>2000</td>\n",
       "      <td>12</td>\n",
       "      <td>2000s</td>\n",
       "      <td>Drama</td>\n",
       "      <td>no</td>\n",
       "      <td>no</td>\n",
       "      <td>F</td>\n",
       "      <td>1</td>\n",
       "      <td>10</td>\n",
       "      <td>48067</td>\n",
       "      <td>1</td>\n",
       "    </tr>\n",
       "    <tr>\n",
       "      <th>4</th>\n",
       "      <td>1</td>\n",
       "      <td>2355</td>\n",
       "      <td>1990s</td>\n",
       "      <td>1998</td>\n",
       "      <td>2001</td>\n",
       "      <td>1</td>\n",
       "      <td>2000s</td>\n",
       "      <td>Animation</td>\n",
       "      <td>Children's</td>\n",
       "      <td>Comedy</td>\n",
       "      <td>F</td>\n",
       "      <td>1</td>\n",
       "      <td>10</td>\n",
       "      <td>48067</td>\n",
       "      <td>1</td>\n",
       "    </tr>\n",
       "  </tbody>\n",
       "</table>\n",
       "</div>"
      ],
      "text/plain": [
       "  user_id movie_id movie_decade movie_year rating_year rating_month  \\\n",
       "0       1     1193        1970s       1975        2000           12   \n",
       "1       1      661        1990s       1996        2000           12   \n",
       "2       1      914        1960s       1964        2000           12   \n",
       "3       1     3408        2000s       2000        2000           12   \n",
       "4       1     2355        1990s       1998        2001            1   \n",
       "\n",
       "  rating_decade     genre1      genre2   genre3 gender age occupation    zip  \\\n",
       "0         2000s      Drama          no       no      F   1         10  48067   \n",
       "1         2000s  Animation  Children's  Musical      F   1         10  48067   \n",
       "2         2000s    Musical     Romance       no      F   1         10  48067   \n",
       "3         2000s      Drama          no       no      F   1         10  48067   \n",
       "4         2000s  Animation  Children's   Comedy      F   1         10  48067   \n",
       "\n",
       "  label  \n",
       "0     1  \n",
       "1     0  \n",
       "2     0  \n",
       "3     1  \n",
       "4     1  "
      ]
     },
     "execution_count": 77,
     "metadata": {},
     "output_type": "execute_result"
    }
   ],
   "source": [
    "# 1. 데이터 불러오기\n",
    "movielens_rcmm = pd.read_csv(f\"{data_path}/movielens_rcmm_v2.csv\", dtype=str)\n",
    "print(movielens_rcmm.shape)\n",
    "movielens_rcmm.head()"
   ]
  },
  {
   "cell_type": "code",
   "execution_count": 78,
   "id": "a71be7dc",
   "metadata": {},
   "outputs": [],
   "source": [
    "# 2. 라벨 인코더(label encoder)\n",
    "label_encoders = {col: LabelEncoder() for col in movielens_rcmm.columns[:-1]} # label은 제외\n",
    "\n",
    "for col, le in label_encoders.items():\n",
    "    movielens_rcmm[col] = le.fit_transform(movielens_rcmm[col])"
   ]
  },
  {
   "cell_type": "code",
   "execution_count": 79,
   "id": "5f83532a",
   "metadata": {},
   "outputs": [
    {
     "data": {
      "text/html": [
       "<div>\n",
       "<style scoped>\n",
       "    .dataframe tbody tr th:only-of-type {\n",
       "        vertical-align: middle;\n",
       "    }\n",
       "\n",
       "    .dataframe tbody tr th {\n",
       "        vertical-align: top;\n",
       "    }\n",
       "\n",
       "    .dataframe thead th {\n",
       "        text-align: right;\n",
       "    }\n",
       "</style>\n",
       "<table border=\"1\" class=\"dataframe\">\n",
       "  <thead>\n",
       "    <tr style=\"text-align: right;\">\n",
       "      <th></th>\n",
       "      <th>user_id</th>\n",
       "      <th>movie_id</th>\n",
       "      <th>movie_decade</th>\n",
       "      <th>movie_year</th>\n",
       "      <th>rating_year</th>\n",
       "      <th>rating_month</th>\n",
       "      <th>rating_decade</th>\n",
       "      <th>genre1</th>\n",
       "      <th>genre2</th>\n",
       "      <th>genre3</th>\n",
       "      <th>gender</th>\n",
       "      <th>age</th>\n",
       "      <th>occupation</th>\n",
       "      <th>zip</th>\n",
       "      <th>label</th>\n",
       "    </tr>\n",
       "  </thead>\n",
       "  <tbody>\n",
       "    <tr>\n",
       "      <th>0</th>\n",
       "      <td>0</td>\n",
       "      <td>189</td>\n",
       "      <td>6</td>\n",
       "      <td>55</td>\n",
       "      <td>0</td>\n",
       "      <td>3</td>\n",
       "      <td>0</td>\n",
       "      <td>7</td>\n",
       "      <td>17</td>\n",
       "      <td>15</td>\n",
       "      <td>0</td>\n",
       "      <td>0</td>\n",
       "      <td>2</td>\n",
       "      <td>1588</td>\n",
       "      <td>1</td>\n",
       "    </tr>\n",
       "    <tr>\n",
       "      <th>1</th>\n",
       "      <td>0</td>\n",
       "      <td>3374</td>\n",
       "      <td>8</td>\n",
       "      <td>76</td>\n",
       "      <td>0</td>\n",
       "      <td>3</td>\n",
       "      <td>0</td>\n",
       "      <td>2</td>\n",
       "      <td>2</td>\n",
       "      <td>8</td>\n",
       "      <td>0</td>\n",
       "      <td>0</td>\n",
       "      <td>2</td>\n",
       "      <td>1588</td>\n",
       "      <td>0</td>\n",
       "    </tr>\n",
       "    <tr>\n",
       "      <th>2</th>\n",
       "      <td>0</td>\n",
       "      <td>3615</td>\n",
       "      <td>5</td>\n",
       "      <td>44</td>\n",
       "      <td>0</td>\n",
       "      <td>3</td>\n",
       "      <td>0</td>\n",
       "      <td>11</td>\n",
       "      <td>12</td>\n",
       "      <td>15</td>\n",
       "      <td>0</td>\n",
       "      <td>0</td>\n",
       "      <td>2</td>\n",
       "      <td>1588</td>\n",
       "      <td>0</td>\n",
       "    </tr>\n",
       "    <tr>\n",
       "      <th>3</th>\n",
       "      <td>0</td>\n",
       "      <td>2503</td>\n",
       "      <td>9</td>\n",
       "      <td>80</td>\n",
       "      <td>0</td>\n",
       "      <td>3</td>\n",
       "      <td>0</td>\n",
       "      <td>7</td>\n",
       "      <td>17</td>\n",
       "      <td>15</td>\n",
       "      <td>0</td>\n",
       "      <td>0</td>\n",
       "      <td>2</td>\n",
       "      <td>1588</td>\n",
       "      <td>1</td>\n",
       "    </tr>\n",
       "    <tr>\n",
       "      <th>4</th>\n",
       "      <td>0</td>\n",
       "      <td>1374</td>\n",
       "      <td>8</td>\n",
       "      <td>78</td>\n",
       "      <td>1</td>\n",
       "      <td>0</td>\n",
       "      <td>0</td>\n",
       "      <td>2</td>\n",
       "      <td>2</td>\n",
       "      <td>2</td>\n",
       "      <td>0</td>\n",
       "      <td>0</td>\n",
       "      <td>2</td>\n",
       "      <td>1588</td>\n",
       "      <td>1</td>\n",
       "    </tr>\n",
       "  </tbody>\n",
       "</table>\n",
       "</div>"
      ],
      "text/plain": [
       "   user_id  movie_id  movie_decade  movie_year  rating_year  rating_month  \\\n",
       "0        0       189             6          55            0             3   \n",
       "1        0      3374             8          76            0             3   \n",
       "2        0      3615             5          44            0             3   \n",
       "3        0      2503             9          80            0             3   \n",
       "4        0      1374             8          78            1             0   \n",
       "\n",
       "   rating_decade  genre1  genre2  genre3  gender  age  occupation   zip label  \n",
       "0              0       7      17      15       0    0           2  1588     1  \n",
       "1              0       2       2       8       0    0           2  1588     0  \n",
       "2              0      11      12      15       0    0           2  1588     0  \n",
       "3              0       7      17      15       0    0           2  1588     1  \n",
       "4              0       2       2       2       0    0           2  1588     1  "
      ]
     },
     "execution_count": 79,
     "metadata": {},
     "output_type": "execute_result"
    }
   ],
   "source": [
    "movielens_rcmm.head()"
   ]
  },
  {
   "cell_type": "code",
   "execution_count": 80,
   "id": "85089daa",
   "metadata": {},
   "outputs": [],
   "source": [
    "movielens_rcmm['label'] = movielens_rcmm['label'].astype(np.float32)"
   ]
  },
  {
   "cell_type": "code",
   "execution_count": 81,
   "id": "8600c64a",
   "metadata": {},
   "outputs": [],
   "source": [
    "# 3. 학습 데이터와 테스트데이터로 분리\n",
    "train_df, test_df = train_test_split(movielens_rcmm, test_size=0.2, random_state=42)"
   ]
  },
  {
   "cell_type": "code",
   "execution_count": 82,
   "id": "9aa6bb8a",
   "metadata": {},
   "outputs": [
    {
     "name": "stdout",
     "output_type": "stream",
     "text": [
      "<class 'pandas.core.frame.DataFrame'>\n",
      "Index: 800167 entries, 416292 to 121958\n",
      "Data columns (total 15 columns):\n",
      " #   Column         Non-Null Count   Dtype  \n",
      "---  ------         --------------   -----  \n",
      " 0   user_id        800167 non-null  int64  \n",
      " 1   movie_id       800167 non-null  int64  \n",
      " 2   movie_decade   800167 non-null  int64  \n",
      " 3   movie_year     800167 non-null  int64  \n",
      " 4   rating_year    800167 non-null  int64  \n",
      " 5   rating_month   800167 non-null  int64  \n",
      " 6   rating_decade  800167 non-null  int64  \n",
      " 7   genre1         800167 non-null  int64  \n",
      " 8   genre2         800167 non-null  int64  \n",
      " 9   genre3         800167 non-null  int64  \n",
      " 10  gender         800167 non-null  int64  \n",
      " 11  age            800167 non-null  int64  \n",
      " 12  occupation     800167 non-null  int64  \n",
      " 13  zip            800167 non-null  int64  \n",
      " 14  label          800167 non-null  float32\n",
      "dtypes: float32(1), int64(14)\n",
      "memory usage: 94.6 MB\n"
     ]
    }
   ],
   "source": [
    "train_df.info()"
   ]
  },
  {
   "cell_type": "code",
   "execution_count": 83,
   "id": "45750737",
   "metadata": {},
   "outputs": [
    {
     "data": {
      "text/plain": [
       "array([6040, 3706,   10,   81,    4,   12,    1,   18,   18,   16,    2,\n",
       "          7,   21, 3439])"
      ]
     },
     "execution_count": 83,
     "metadata": {},
     "output_type": "execute_result"
    }
   ],
   "source": [
    "# 필요 컬럼들과 레이블 정의\n",
    "# 필드의 각 고유 개수를 정의하는 field_dims를 정의 -> 임베딩 때 활용\n",
    "u_i_feature = ['user_id', 'movie_id']\n",
    "meta_features = ['movie_decade', 'movie_year', 'rating_year', 'rating_month', 'rating_decade', 'genre1','genre2', 'genre3', 'gender', 'age', 'occupation', 'zip']\n",
    "label = 'label'\n",
    "field_dims = np.max(movielens_rcmm[u_i_feature + meta_features].astype(np.int64).values, axis=0) + 1\n",
    "field_dims"
   ]
  },
  {
   "attachments": {},
   "cell_type": "markdown",
   "id": "b11683e3",
   "metadata": {},
   "source": [
    "<br>\n",
    "\n",
    "## 6. 훈련 환경 및 모델 세팅"
   ]
  },
  {
   "cell_type": "code",
   "execution_count": 84,
   "id": "6196057b",
   "metadata": {},
   "outputs": [],
   "source": [
    "# 모델 훈련 설정 세팅\n",
    "epochs=5               # 에포크\n",
    "learning_rate= 0.0001  # 학습률\n",
    "dropout= 0.4           # 드롭아웃\n",
    "batch_size = 2048      # 배치사이즈\n",
    "embed_dim= 16          # 임베딩 크기"
   ]
  },
  {
   "attachments": {},
   "cell_type": "markdown",
   "id": "dd4fc038",
   "metadata": {},
   "source": [
    "고칠 부분\n",
    "이부분도 AutoIntMLP를 가져와주고 DNN 레이어가 붙은 파라미터를 추가해줍니다"
   ]
  },
  {
   "cell_type": "code",
   "execution_count": 85,
   "id": "903cda8f",
   "metadata": {},
   "outputs": [],
   "source": [
    "# AutoInt 레이어를 가지고 있는 모델 본체\n",
    "# 해당 모델을 활용해 훈련 진행\n",
    "class AutoIntModel(Model):\n",
    "    def __init__(self, field_dims, embedding_size, att_layer_num=3, att_head_num=2,\n",
    "                 att_res=True, dnn_hidden_units=(32, 32), dnn_activation='relu',\n",
    "                 l2_reg_dnn=0, l2_reg_embedding=1e-5, dnn_use_bn=False,\n",
    "                 dnn_dropout=0.4, init_std=0.0001):\n",
    "        super(AutoIntModel, self).__init__()\n",
    "        self.autoInt_layer = AutoIntMLP(\n",
    "            field_dims=field_dims,\n",
    "            embedding_size=embedding_size,\n",
    "            att_layer_num=att_layer_num,\n",
    "            att_head_num=att_head_num,\n",
    "            att_res=att_res,\n",
    "            dnn_hidden_units=dnn_hidden_units,\n",
    "            dnn_activation=dnn_activation,\n",
    "            l2_reg_dnn=l2_reg_dnn,\n",
    "            l2_reg_embedding=l2_reg_embedding,\n",
    "            dnn_use_bn=dnn_use_bn,\n",
    "            dnn_dropout=dnn_dropout,\n",
    "            init_std=init_std\n",
    "        )\n",
    "\n",
    "    def call(self, inputs, training=False):\n",
    "        return self.autoInt_layer(inputs, training=training)"
   ]
  },
  {
   "cell_type": "code",
   "execution_count": 86,
   "id": "eaad3efb",
   "metadata": {},
   "outputs": [],
   "source": [
    "# 모델 정의\n",
    "autoInt_model = AutoIntModel(\n",
    "    field_dims=field_dims,\n",
    "    embedding_size=embed_dim,\n",
    "    att_layer_num=3,\n",
    "    att_head_num=2,\n",
    "    att_res=True,\n",
    "    dnn_hidden_units=(32, 32),   # DNN 은닉층 구조\n",
    "    dnn_activation='relu',       # 활성화 함수\n",
    "    l2_reg_dnn=0,\n",
    "    l2_reg_embedding=1e-5,\n",
    "    dnn_use_bn=False,\n",
    "    dnn_dropout=dropout,\n",
    "    init_std=0.0001\n",
    ")"
   ]
  },
  {
   "cell_type": "code",
   "execution_count": 87,
   "id": "eb4a2fc3",
   "metadata": {},
   "outputs": [
    {
     "data": {
      "text/html": [
       "<pre style=\"white-space:pre;overflow-x:auto;line-height:normal;font-family:Menlo,'DejaVu Sans Mono',consolas,'Courier New',monospace\"><span style=\"font-weight: bold\">Model: \"auto_int_model_36\"</span>\n",
       "</pre>\n"
      ],
      "text/plain": [
       "\u001b[1mModel: \"auto_int_model_36\"\u001b[0m\n"
      ]
     },
     "metadata": {},
     "output_type": "display_data"
    },
    {
     "data": {
      "text/html": [
       "<pre style=\"white-space:pre;overflow-x:auto;line-height:normal;font-family:Menlo,'DejaVu Sans Mono',consolas,'Courier New',monospace\">┏━━━━━━━━━━━━━━━━━━━━━━━━━━━━━━━━━┳━━━━━━━━━━━━━━━━━━━━━━━━┳━━━━━━━━━━━━━━━┓\n",
       "┃<span style=\"font-weight: bold\"> Layer (type)                    </span>┃<span style=\"font-weight: bold\"> Output Shape           </span>┃<span style=\"font-weight: bold\">       Param # </span>┃\n",
       "┡━━━━━━━━━━━━━━━━━━━━━━━━━━━━━━━━━╇━━━━━━━━━━━━━━━━━━━━━━━━╇━━━━━━━━━━━━━━━┩\n",
       "│ auto_int_mlp_36 (<span style=\"color: #0087ff; text-decoration-color: #0087ff\">AutoIntMLP</span>)    │ ?                      │   <span style=\"color: #00af00; text-decoration-color: #00af00\">0</span> (unbuilt) │\n",
       "└─────────────────────────────────┴────────────────────────┴───────────────┘\n",
       "</pre>\n"
      ],
      "text/plain": [
       "┏━━━━━━━━━━━━━━━━━━━━━━━━━━━━━━━━━┳━━━━━━━━━━━━━━━━━━━━━━━━┳━━━━━━━━━━━━━━━┓\n",
       "┃\u001b[1m \u001b[0m\u001b[1mLayer (type)                   \u001b[0m\u001b[1m \u001b[0m┃\u001b[1m \u001b[0m\u001b[1mOutput Shape          \u001b[0m\u001b[1m \u001b[0m┃\u001b[1m \u001b[0m\u001b[1m      Param #\u001b[0m\u001b[1m \u001b[0m┃\n",
       "┡━━━━━━━━━━━━━━━━━━━━━━━━━━━━━━━━━╇━━━━━━━━━━━━━━━━━━━━━━━━╇━━━━━━━━━━━━━━━┩\n",
       "│ auto_int_mlp_36 (\u001b[38;5;33mAutoIntMLP\u001b[0m)    │ ?                      │   \u001b[38;5;34m0\u001b[0m (unbuilt) │\n",
       "└─────────────────────────────────┴────────────────────────┴───────────────┘\n"
      ]
     },
     "metadata": {},
     "output_type": "display_data"
    },
    {
     "data": {
      "text/html": [
       "<pre style=\"white-space:pre;overflow-x:auto;line-height:normal;font-family:Menlo,'DejaVu Sans Mono',consolas,'Courier New',monospace\"><span style=\"font-weight: bold\"> Total params: </span><span style=\"color: #00af00; text-decoration-color: #00af00\">0</span> (0.00 B)\n",
       "</pre>\n"
      ],
      "text/plain": [
       "\u001b[1m Total params: \u001b[0m\u001b[38;5;34m0\u001b[0m (0.00 B)\n"
      ]
     },
     "metadata": {},
     "output_type": "display_data"
    },
    {
     "data": {
      "text/html": [
       "<pre style=\"white-space:pre;overflow-x:auto;line-height:normal;font-family:Menlo,'DejaVu Sans Mono',consolas,'Courier New',monospace\"><span style=\"font-weight: bold\"> Trainable params: </span><span style=\"color: #00af00; text-decoration-color: #00af00\">0</span> (0.00 B)\n",
       "</pre>\n"
      ],
      "text/plain": [
       "\u001b[1m Trainable params: \u001b[0m\u001b[38;5;34m0\u001b[0m (0.00 B)\n"
      ]
     },
     "metadata": {},
     "output_type": "display_data"
    },
    {
     "data": {
      "text/html": [
       "<pre style=\"white-space:pre;overflow-x:auto;line-height:normal;font-family:Menlo,'DejaVu Sans Mono',consolas,'Courier New',monospace\"><span style=\"font-weight: bold\"> Non-trainable params: </span><span style=\"color: #00af00; text-decoration-color: #00af00\">0</span> (0.00 B)\n",
       "</pre>\n"
      ],
      "text/plain": [
       "\u001b[1m Non-trainable params: \u001b[0m\u001b[38;5;34m0\u001b[0m (0.00 B)\n"
      ]
     },
     "metadata": {},
     "output_type": "display_data"
    }
   ],
   "source": [
    "autoInt_model.summary()"
   ]
  },
  {
   "cell_type": "code",
   "execution_count": 88,
   "id": "0a319bb3",
   "metadata": {},
   "outputs": [],
   "source": [
    "# 옵티마이저, 오차함수 정의\n",
    "optimizer = Adam(learning_rate=learning_rate)\n",
    "loss_fn = BinaryCrossentropy(from_logits=False)"
   ]
  },
  {
   "cell_type": "code",
   "execution_count": 89,
   "id": "33200859",
   "metadata": {},
   "outputs": [],
   "source": [
    "autoInt_model.compile(optimizer=optimizer, loss=loss_fn, metrics=['binary_crossentropy'])"
   ]
  },
  {
   "attachments": {},
   "cell_type": "markdown",
   "id": "f1976569",
   "metadata": {},
   "source": [
    "<br>\n",
    "\n",
    "## 7. 훈련 및 평가"
   ]
  },
  {
   "cell_type": "code",
   "execution_count": 90,
   "id": "ca131e53",
   "metadata": {},
   "outputs": [
    {
     "name": "stdout",
     "output_type": "stream",
     "text": [
      "Epoch 1/5\n",
      "\u001b[1m352/352\u001b[0m \u001b[32m━━━━━━━━━━━━━━━━━━━━\u001b[0m\u001b[37m\u001b[0m \u001b[1m15s\u001b[0m 39ms/step - binary_crossentropy: 0.6871 - loss: 0.6871 - val_binary_crossentropy: 0.6453 - val_loss: 0.6453\n",
      "Epoch 2/5\n",
      "\u001b[1m352/352\u001b[0m \u001b[32m━━━━━━━━━━━━━━━━━━━━\u001b[0m\u001b[37m\u001b[0m \u001b[1m12s\u001b[0m 35ms/step - binary_crossentropy: 0.6298 - loss: 0.6298 - val_binary_crossentropy: 0.5892 - val_loss: 0.5892\n",
      "Epoch 3/5\n",
      "\u001b[1m352/352\u001b[0m \u001b[32m━━━━━━━━━━━━━━━━━━━━\u001b[0m\u001b[37m\u001b[0m \u001b[1m12s\u001b[0m 35ms/step - binary_crossentropy: 0.5743 - loss: 0.5743 - val_binary_crossentropy: 0.5494 - val_loss: 0.5494\n",
      "Epoch 4/5\n",
      "\u001b[1m352/352\u001b[0m \u001b[32m━━━━━━━━━━━━━━━━━━━━\u001b[0m\u001b[37m\u001b[0m \u001b[1m13s\u001b[0m 36ms/step - binary_crossentropy: 0.5433 - loss: 0.5433 - val_binary_crossentropy: 0.5434 - val_loss: 0.5434\n",
      "Epoch 5/5\n",
      "\u001b[1m352/352\u001b[0m \u001b[32m━━━━━━━━━━━━━━━━━━━━\u001b[0m\u001b[37m\u001b[0m \u001b[1m14s\u001b[0m 40ms/step - binary_crossentropy: 0.5364 - loss: 0.5364 - val_binary_crossentropy: 0.5416 - val_loss: 0.5416\n"
     ]
    }
   ],
   "source": [
    "history = autoInt_model.fit(train_df[u_i_feature + meta_features], train_df[label], epochs=epochs, batch_size=batch_size, validation_split=0.1)"
   ]
  },
  {
   "cell_type": "code",
   "execution_count": 91,
   "id": "42df2a61",
   "metadata": {},
   "outputs": [
    {
     "name": "stderr",
     "output_type": "stream",
     "text": [
      "/var/folders/q0/49b9n74d0zj2_3jp_d8kqbmh0000gn/T/ipykernel_74347/2567990266.py:10: DeprecationWarning: Conversion of an array with ndim > 0 to a scalar is deprecated, and will error in future. Ensure you extract a single element from your array before performing this operation. (Deprecated NumPy 1.25.)\n",
      "  user_pred_info[int(u_i[0])].append((int(u_i[1]), float(p)))\n",
      "100%|██████████| 6038/6038 [00:00<00:00, 91154.59it/s]\n"
     ]
    }
   ],
   "source": [
    "# 사용자에게 예측된 정보를 저장하는 딕셔너리\n",
    "user_pred_info = {}\n",
    "# top10개\n",
    "top = 10\n",
    "\n",
    "# 테스트 값 가져오기\n",
    "mymodel_user_pred_info = test_model(autoInt_model, test_df)\n",
    "\n",
    "# 사용자마다 돌면서 예측 데이터 중 가장 높은 top 10만 가져오기\n",
    "for user, data_info in tqdm(mymodel_user_pred_info.items(), total=len(mymodel_user_pred_info), position=0, leave=True):\n",
    "    ranklist = sorted(data_info, key=lambda s : s[1], reverse=True)[:top]\n",
    "    ranklist = list(dict.fromkeys([r[0] for r in ranklist]))\n",
    "    user_pred_info[str(user)] = ranklist\n",
    "\n",
    "# 원본 테스트 데이터에서 label이 1인 사용자별 영화 정보 가져오기\n",
    "test_data = test_df[test_df['label']==1].groupby('user_id')['movie_id'].apply(list)"
   ]
  },
  {
   "cell_type": "code",
   "execution_count": 92,
   "id": "46752187",
   "metadata": {},
   "outputs": [
    {
     "name": "stderr",
     "output_type": "stream",
     "text": [
      "100%|██████████| 5994/5994 [00:00<00:00, 18786.50it/s]\n",
      "100%|██████████| 5994/5994 [00:00<00:00, 110303.78it/s]\n"
     ]
    }
   ],
   "source": [
    "mymodel_ndcg_result = {}\n",
    "mymodel_hitrate_result = {}\n",
    "\n",
    "# 모델 예측값과 원본 테스트 데이터를 비교해서\n",
    "# 어느정도 성능이 나왔는지 NDCG와 Hitrate를 비교\n",
    "\n",
    "# NDCG\n",
    "for user, data_info in tqdm(test_data.items(), total=len(test_data), position=0, leave=True):\n",
    "    mymodel_pred = user_pred_info.get(str(user))\n",
    "\n",
    "    testset = list(set(np.array(data_info).astype(int)))\n",
    "    mymodel_pred = mymodel_pred[:top]\n",
    "\n",
    "    # NDCG 값 구하기\n",
    "    user_ndcg = get_NDCG(mymodel_pred, testset)\n",
    "\n",
    "    mymodel_ndcg_result[user] = user_ndcg\n",
    "\n",
    "# Hitrate\n",
    "for user, data_info in tqdm(test_data.items(), total=len(test_data), position=0, leave=True):\n",
    "    mymodel_pred = user_pred_info.get(str(user))\n",
    "\n",
    "    testset = list(set(np.array(data_info).astype(int)))\n",
    "    mymodel_pred = mymodel_pred[:top]\n",
    "\n",
    "    # hitrate 값 구하기\n",
    "    user_hitrate = get_hit_rate(mymodel_pred, testset)\n",
    "\n",
    "    # 사용자 hitrate 결과 저장\n",
    "    mymodel_hitrate_result[user] = user_hitrate"
   ]
  },
  {
   "cell_type": "code",
   "execution_count": 93,
   "id": "8b6d7920",
   "metadata": {},
   "outputs": [
    {
     "name": "stdout",
     "output_type": "stream",
     "text": [
      "mymodel ndcg:  0.6617\n",
      "mymodel hitrate:  0.63023\n"
     ]
    }
   ],
   "source": [
    "print(\"mymodel ndcg: \", round(np.mean(list(mymodel_ndcg_result.values())), 5))\n",
    "print(\"mymodel hitrate: \", round(np.mean(list(mymodel_hitrate_result.values())), 5))"
   ]
  },
  {
   "attachments": {},
   "cell_type": "markdown",
   "id": "484b5c2d",
   "metadata": {},
   "source": [
    "<br>\n",
    "\n",
    "## 8. 모델 저장\n",
    "\n",
    "학습된 모델과 가중치를 저장한다."
   ]
  },
  {
   "cell_type": "code",
   "execution_count": 44,
   "id": "e2c8b03b",
   "metadata": {},
   "outputs": [],
   "source": [
    "# 저장할 경로 설정\n",
    "save_path = f\"{data_path}/field_dims2.npy\"\n",
    "\n",
    "# 저장\n",
    "np.save(save_path, field_dims)"
   ]
  },
  {
   "cell_type": "code",
   "execution_count": 101,
   "id": "350dfd6e",
   "metadata": {},
   "outputs": [],
   "source": [
    "# 모델의 가중치(weight) 저장\n",
    "# 최근 Keras 버전(특히 TensorFlow 2.15+ 또는 Keras 3+)에서는 확장자 .weights.h5 필수\n",
    "autoInt_model.save_weights(f\"{model_path}/autoIntMLP_model_weights2.weights.h5\")"
   ]
  },
  {
   "cell_type": "code",
   "execution_count": 48,
   "id": "20e3b1ee",
   "metadata": {},
   "outputs": [
    {
     "data": {
      "text/plain": [
       "['/Users/jul_e/Documents/DS/recommender_system_autoint_project/data/label_encoders2.pkl']"
      ]
     },
     "execution_count": 48,
     "metadata": {},
     "output_type": "execute_result"
    }
   ],
   "source": [
    "import joblib\n",
    "\n",
    "# 모델 객체를 pickled binary file 형태로 저장\n",
    "joblib.dump(label_encoders, f\"{data_path}/label_encoders2.pkl\")"
   ]
  },
  {
   "cell_type": "code",
   "execution_count": null,
   "id": "5bbeb559",
   "metadata": {},
   "outputs": [],
   "source": []
  },
  {
   "cell_type": "code",
   "execution_count": null,
   "id": "9ff93d55",
   "metadata": {},
   "outputs": [],
   "source": []
  },
  {
   "attachments": {},
   "cell_type": "markdown",
   "id": "e6dab863",
   "metadata": {},
   "source": [
    "<br>\n",
    "\n",
    "## AutoInt+ 모델 성능 향상 실험"
   ]
  },
  {
   "cell_type": "code",
   "execution_count": 97,
   "id": "7ffd46c2",
   "metadata": {},
   "outputs": [],
   "source": [
    "import itertools, gc, numpy as np, pandas as pd, tensorflow as tf\n",
    "from tqdm.auto import tqdm\n",
    "\n",
    "# 1. 탐색할 파라미터 그리드\n",
    "param_grid = {\n",
    "    \"embed_dim\" : [8, 16],        # 임베딩 차원\n",
    "    \"dropout\"   : [0.2, 0.4],     # 드롭아웃\n",
    "    \"lr\"        : [1e-4],         # 학습률\n",
    "    \"batch\"     : [1024, 2048],   # 배치사이즈\n",
    "    \"epochs\"    : [3]             # 에포크\n",
    "}\n",
    "\n",
    "search_space = [\n",
    "    dict(zip(param_grid.keys(), vals))\n",
    "    for vals in itertools.product(*param_grid.values())\n",
    "]"
   ]
  },
  {
   "cell_type": "code",
   "execution_count": 98,
   "id": "edf356d2",
   "metadata": {},
   "outputs": [],
   "source": [
    "# 2. 단일 실험 실행 함수\n",
    "def run_single_exp(cfg: dict) -> dict:\n",
    "    \"\"\"cfg = {'embed_dim':…, 'dropout':…, …}\"\"\"\n",
    "    # 메모리 초기화\n",
    "    tf.keras.backend.clear_session()\n",
    "    gc.collect()\n",
    "    \n",
    "    # (1) 모델 생성\n",
    "    model = AutoIntModel(\n",
    "        field_dims     = field_dims,\n",
    "        embedding_size = cfg[\"embed_dim\"],\n",
    "        dnn_dropout    = cfg[\"dropout\"]\n",
    "    )\n",
    "    \n",
    "    # (2) compile\n",
    "    model.compile(\n",
    "        optimizer = tf.keras.optimizers.Adam(learning_rate = cfg[\"lr\"]),\n",
    "        loss      = tf.keras.losses.BinaryCrossentropy(from_logits = False)\n",
    "    )\n",
    "    \n",
    "    # (3) 학습\n",
    "    model.fit(\n",
    "        train_df[u_i_feature + meta_features],\n",
    "        train_df[label],\n",
    "        epochs           = cfg[\"epochs\"],\n",
    "        batch_size       = cfg[\"batch\"],\n",
    "        validation_split = 0.1,\n",
    "        verbose          = 0\n",
    "    )\n",
    "    \n",
    "    # (4) 평가\n",
    "    user_pred_info = {}\n",
    "    top = 10\n",
    "    \n",
    "    pred_results = test_model(model, test_df)\n",
    "    for user, data_info in pred_results.items():\n",
    "        ranklist = sorted(data_info, key=lambda s: s[1], reverse=True)[:top]\n",
    "        user_pred_info[str(user)] = list(dict.fromkeys(r[0] for r in ranklist))\n",
    "    \n",
    "    test_data = (test_df[test_df['label'] == 1]\n",
    "                 .groupby('user_id')['movie_id']\n",
    "                 .apply(list))\n",
    "    \n",
    "    ndcg_list, hr_list = [], []\n",
    "    for user, truths in test_data.items():\n",
    "        preds  = user_pred_info.get(str(user), [])[:top]\n",
    "        truths = list(set(map(int, truths)))\n",
    "        ndcg_list.append(get_NDCG(preds, truths))\n",
    "        hr_list.append(get_hit_rate(preds, truths))\n",
    "    \n",
    "    return {\n",
    "        \"embed_dim\" : cfg[\"embed_dim\"],\n",
    "        \"dropout\"   : cfg[\"dropout\"],\n",
    "        \"lr\"        : cfg[\"lr\"],\n",
    "        \"batch\"     : cfg[\"batch\"],\n",
    "        \"epochs\"    : cfg[\"epochs\"],\n",
    "        \"NDCG@10\"   : round(np.mean(ndcg_list), 4),\n",
    "        \"HitRate@10\": round(np.mean(hr_list), 4)\n",
    "    }"
   ]
  },
  {
   "cell_type": "code",
   "execution_count": 99,
   "id": "7ecb63b9",
   "metadata": {},
   "outputs": [
    {
     "data": {
      "application/vnd.jupyter.widget-view+json": {
       "model_id": "8af04c0d07494960bc28a296e620931e",
       "version_major": 2,
       "version_minor": 0
      },
      "text/plain": [
       "AutoInt+ experiments:   0%|          | 0/8 [00:00<?, ?it/s]"
      ]
     },
     "metadata": {},
     "output_type": "display_data"
    },
    {
     "name": "stderr",
     "output_type": "stream",
     "text": [
      "/var/folders/q0/49b9n74d0zj2_3jp_d8kqbmh0000gn/T/ipykernel_74347/2567990266.py:10: DeprecationWarning: Conversion of an array with ndim > 0 to a scalar is deprecated, and will error in future. Ensure you extract a single element from your array before performing this operation. (Deprecated NumPy 1.25.)\n",
      "  user_pred_info[int(u_i[0])].append((int(u_i[1]), float(p)))\n",
      "/var/folders/q0/49b9n74d0zj2_3jp_d8kqbmh0000gn/T/ipykernel_74347/2567990266.py:10: DeprecationWarning: Conversion of an array with ndim > 0 to a scalar is deprecated, and will error in future. Ensure you extract a single element from your array before performing this operation. (Deprecated NumPy 1.25.)\n",
      "  user_pred_info[int(u_i[0])].append((int(u_i[1]), float(p)))\n",
      "/var/folders/q0/49b9n74d0zj2_3jp_d8kqbmh0000gn/T/ipykernel_74347/2567990266.py:10: DeprecationWarning: Conversion of an array with ndim > 0 to a scalar is deprecated, and will error in future. Ensure you extract a single element from your array before performing this operation. (Deprecated NumPy 1.25.)\n",
      "  user_pred_info[int(u_i[0])].append((int(u_i[1]), float(p)))\n",
      "/var/folders/q0/49b9n74d0zj2_3jp_d8kqbmh0000gn/T/ipykernel_74347/2567990266.py:10: DeprecationWarning: Conversion of an array with ndim > 0 to a scalar is deprecated, and will error in future. Ensure you extract a single element from your array before performing this operation. (Deprecated NumPy 1.25.)\n",
      "  user_pred_info[int(u_i[0])].append((int(u_i[1]), float(p)))\n",
      "/var/folders/q0/49b9n74d0zj2_3jp_d8kqbmh0000gn/T/ipykernel_74347/2567990266.py:10: DeprecationWarning: Conversion of an array with ndim > 0 to a scalar is deprecated, and will error in future. Ensure you extract a single element from your array before performing this operation. (Deprecated NumPy 1.25.)\n",
      "  user_pred_info[int(u_i[0])].append((int(u_i[1]), float(p)))\n",
      "/var/folders/q0/49b9n74d0zj2_3jp_d8kqbmh0000gn/T/ipykernel_74347/2567990266.py:10: DeprecationWarning: Conversion of an array with ndim > 0 to a scalar is deprecated, and will error in future. Ensure you extract a single element from your array before performing this operation. (Deprecated NumPy 1.25.)\n",
      "  user_pred_info[int(u_i[0])].append((int(u_i[1]), float(p)))\n",
      "/var/folders/q0/49b9n74d0zj2_3jp_d8kqbmh0000gn/T/ipykernel_74347/2567990266.py:10: DeprecationWarning: Conversion of an array with ndim > 0 to a scalar is deprecated, and will error in future. Ensure you extract a single element from your array before performing this operation. (Deprecated NumPy 1.25.)\n",
      "  user_pred_info[int(u_i[0])].append((int(u_i[1]), float(p)))\n",
      "/var/folders/q0/49b9n74d0zj2_3jp_d8kqbmh0000gn/T/ipykernel_74347/2567990266.py:10: DeprecationWarning: Conversion of an array with ndim > 0 to a scalar is deprecated, and will error in future. Ensure you extract a single element from your array before performing this operation. (Deprecated NumPy 1.25.)\n",
      "  user_pred_info[int(u_i[0])].append((int(u_i[1]), float(p)))\n"
     ]
    }
   ],
   "source": [
    "# 3. 그리드 탐색 실행\n",
    "results = []\n",
    "for cfg in tqdm(search_space, desc=\"AutoInt+ experiments\"):\n",
    "    results.append(run_single_exp(cfg))"
   ]
  },
  {
   "cell_type": "code",
   "execution_count": 100,
   "id": "1346a888",
   "metadata": {},
   "outputs": [
    {
     "name": "stdout",
     "output_type": "stream",
     "text": [
      "\n",
      "AutoInt+ 실험 결과\n"
     ]
    },
    {
     "data": {
      "text/html": [
       "<div>\n",
       "<style scoped>\n",
       "    .dataframe tbody tr th:only-of-type {\n",
       "        vertical-align: middle;\n",
       "    }\n",
       "\n",
       "    .dataframe tbody tr th {\n",
       "        vertical-align: top;\n",
       "    }\n",
       "\n",
       "    .dataframe thead th {\n",
       "        text-align: right;\n",
       "    }\n",
       "</style>\n",
       "<table border=\"1\" class=\"dataframe\">\n",
       "  <thead>\n",
       "    <tr style=\"text-align: right;\">\n",
       "      <th></th>\n",
       "      <th>embed_dim</th>\n",
       "      <th>dropout</th>\n",
       "      <th>lr</th>\n",
       "      <th>batch</th>\n",
       "      <th>epochs</th>\n",
       "      <th>NDCG@10</th>\n",
       "      <th>HitRate@10</th>\n",
       "    </tr>\n",
       "  </thead>\n",
       "  <tbody>\n",
       "    <tr>\n",
       "      <th>0</th>\n",
       "      <td>16</td>\n",
       "      <td>0.2</td>\n",
       "      <td>0.0001</td>\n",
       "      <td>1024</td>\n",
       "      <td>3</td>\n",
       "      <td>0.6619</td>\n",
       "      <td>0.6301</td>\n",
       "    </tr>\n",
       "    <tr>\n",
       "      <th>1</th>\n",
       "      <td>16</td>\n",
       "      <td>0.4</td>\n",
       "      <td>0.0001</td>\n",
       "      <td>1024</td>\n",
       "      <td>3</td>\n",
       "      <td>0.6617</td>\n",
       "      <td>0.6301</td>\n",
       "    </tr>\n",
       "    <tr>\n",
       "      <th>2</th>\n",
       "      <td>16</td>\n",
       "      <td>0.2</td>\n",
       "      <td>0.0001</td>\n",
       "      <td>2048</td>\n",
       "      <td>3</td>\n",
       "      <td>0.6615</td>\n",
       "      <td>0.6298</td>\n",
       "    </tr>\n",
       "    <tr>\n",
       "      <th>3</th>\n",
       "      <td>16</td>\n",
       "      <td>0.4</td>\n",
       "      <td>0.0001</td>\n",
       "      <td>2048</td>\n",
       "      <td>3</td>\n",
       "      <td>0.6609</td>\n",
       "      <td>0.6294</td>\n",
       "    </tr>\n",
       "    <tr>\n",
       "      <th>4</th>\n",
       "      <td>8</td>\n",
       "      <td>0.2</td>\n",
       "      <td>0.0001</td>\n",
       "      <td>1024</td>\n",
       "      <td>3</td>\n",
       "      <td>0.6602</td>\n",
       "      <td>0.6279</td>\n",
       "    </tr>\n",
       "    <tr>\n",
       "      <th>5</th>\n",
       "      <td>8</td>\n",
       "      <td>0.4</td>\n",
       "      <td>0.0001</td>\n",
       "      <td>1024</td>\n",
       "      <td>3</td>\n",
       "      <td>0.6598</td>\n",
       "      <td>0.6277</td>\n",
       "    </tr>\n",
       "    <tr>\n",
       "      <th>6</th>\n",
       "      <td>8</td>\n",
       "      <td>0.2</td>\n",
       "      <td>0.0001</td>\n",
       "      <td>2048</td>\n",
       "      <td>3</td>\n",
       "      <td>0.6592</td>\n",
       "      <td>0.6276</td>\n",
       "    </tr>\n",
       "    <tr>\n",
       "      <th>7</th>\n",
       "      <td>8</td>\n",
       "      <td>0.4</td>\n",
       "      <td>0.0001</td>\n",
       "      <td>2048</td>\n",
       "      <td>3</td>\n",
       "      <td>0.6589</td>\n",
       "      <td>0.6282</td>\n",
       "    </tr>\n",
       "  </tbody>\n",
       "</table>\n",
       "</div>"
      ],
      "text/plain": [
       "   embed_dim  dropout      lr  batch  epochs  NDCG@10  HitRate@10\n",
       "0         16      0.2  0.0001   1024       3   0.6619      0.6301\n",
       "1         16      0.4  0.0001   1024       3   0.6617      0.6301\n",
       "2         16      0.2  0.0001   2048       3   0.6615      0.6298\n",
       "3         16      0.4  0.0001   2048       3   0.6609      0.6294\n",
       "4          8      0.2  0.0001   1024       3   0.6602      0.6279\n",
       "5          8      0.4  0.0001   1024       3   0.6598      0.6277\n",
       "6          8      0.2  0.0001   2048       3   0.6592      0.6276\n",
       "7          8      0.4  0.0001   2048       3   0.6589      0.6282"
      ]
     },
     "metadata": {},
     "output_type": "display_data"
    }
   ],
   "source": [
    "# 4. 결과 요약 표 출력\n",
    "results_df = (pd.DataFrame(results)\n",
    "              .sort_values(by=\"NDCG@10\", ascending=False)\n",
    "              .reset_index(drop=True))\n",
    "\n",
    "print(\"\\nAutoInt+ 실험 결과\")\n",
    "display(results_df)"
   ]
  },
  {
   "cell_type": "code",
   "execution_count": null,
   "id": "0ecdd944",
   "metadata": {},
   "outputs": [],
   "source": []
  }
 ],
 "metadata": {
  "kernelspec": {
   "display_name": ".venv",
   "language": "python",
   "name": "python3"
  },
  "language_info": {
   "codemirror_mode": {
    "name": "ipython",
    "version": 3
   },
   "file_extension": ".py",
   "mimetype": "text/x-python",
   "name": "python",
   "nbconvert_exporter": "python",
   "pygments_lexer": "ipython3",
   "version": "3.10.7"
  },
  "vscode": {
   "interpreter": {
    "hash": "6a5af85d5038e4f73cc1b19f5ec99308faf710a9d4b945dea6a3c4c4edc0e87e"
   }
  }
 },
 "nbformat": 4,
 "nbformat_minor": 5
}

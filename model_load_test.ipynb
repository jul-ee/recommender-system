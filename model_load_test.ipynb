{
 "cells": [
  {
   "attachments": {},
   "cell_type": "markdown",
   "id": "68aa24a2",
   "metadata": {},
   "source": [
    "# 모델 테스트 노트북\n",
    "\n",
    "모델이 정상적으로 로드되는지 확인"
   ]
  },
  {
   "cell_type": "code",
   "execution_count": 5,
   "id": "2a8d526c",
   "metadata": {},
   "outputs": [],
   "source": [
    "import streamlit as st\n",
    "import pandas as pd\n",
    "import numpy as np\n",
    "import tensorflow as tf\n",
    "import os\n",
    "\n",
    "import joblib\n",
    "from autoint import AutoIntModel, predict_model\n",
    "from tensorflow.keras.models import load_model"
   ]
  },
  {
   "cell_type": "code",
   "execution_count": 6,
   "id": "7b890cda",
   "metadata": {},
   "outputs": [],
   "source": [
    "project_path = os.path.abspath(os.getcwd())\n",
    "data_dir_nm = 'data'\n",
    "movielens_dir_nm = 'ml-1m'\n",
    "model_dir_nm = 'model'\n",
    "data_path = f\"{project_path}/{data_dir_nm}\"\n",
    "model_path = f\"{project_path}/{model_dir_nm}\"\n",
    "field_dims = np.load(f'{data_path}/field_dims.npy')\n",
    "dropout= 0.4\n",
    "embed_dim= 16"
   ]
  },
  {
   "cell_type": "code",
   "execution_count": 7,
   "id": "0f338a21",
   "metadata": {},
   "outputs": [
    {
     "name": "stderr",
     "output_type": "stream",
     "text": [
      "/Users/jul_e/Documents/DS/recommender_system_autoint_project/.venv/lib/python3.10/site-packages/sklearn/base.py:440: InconsistentVersionWarning: Trying to unpickle estimator LabelEncoder from version 1.6.1 when using version 1.7.0. This might lead to breaking code or invalid results. Use at your own risk. For more info please refer to:\n",
      "https://scikit-learn.org/stable/model_persistence.html#security-maintainability-limitations\n",
      "  warnings.warn(\n"
     ]
    }
   ],
   "source": [
    "ratings_df = pd.read_csv(f'{data_path}/{movielens_dir_nm}/ratings_prepro.csv')\n",
    "movies_df = pd.read_csv(f'{data_path}/{movielens_dir_nm}/movies_prepro.csv')\n",
    "user_df = pd.read_csv(f'{data_path}/{movielens_dir_nm}/users_prepro.csv')\n",
    "\n",
    "model = AutoIntModel(field_dims, embed_dim, att_layer_num=3, att_head_num=2, att_res=True,\n",
    "                             l2_reg_dnn=0, l2_reg_embedding=1e-5, dnn_use_bn=False, dnn_dropout=dropout, init_std=0.0001)\n",
    "model(tf.constant([[0] * len(field_dims)], dtype=tf.int64))\n",
    "\n",
    "model.load_weights(f'{model_path}/autoInt_model_weights.weights.h5')\n",
    "label_encoders = joblib.load(f'{data_path}/label_encoders.pkl')"
   ]
  },
  {
   "cell_type": "code",
   "execution_count": null,
   "id": "56997f87",
   "metadata": {},
   "outputs": [],
   "source": []
  }
 ],
 "metadata": {
  "kernelspec": {
   "display_name": ".venv",
   "language": "python",
   "name": "python3"
  },
  "language_info": {
   "codemirror_mode": {
    "name": "ipython",
    "version": 3
   },
   "file_extension": ".py",
   "mimetype": "text/x-python",
   "name": "python",
   "nbconvert_exporter": "python",
   "pygments_lexer": "ipython3",
   "version": "3.10.7"
  },
  "vscode": {
   "interpreter": {
    "hash": "6a5af85d5038e4f73cc1b19f5ec99308faf710a9d4b945dea6a3c4c4edc0e87e"
   }
  }
 },
 "nbformat": 4,
 "nbformat_minor": 5
}
